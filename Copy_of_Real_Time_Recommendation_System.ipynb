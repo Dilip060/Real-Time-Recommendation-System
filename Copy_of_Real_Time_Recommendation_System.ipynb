{
  "nbformat": 4,
  "nbformat_minor": 0,
  "metadata": {
    "colab": {
      "provenance": []
    },
    "kernelspec": {
      "name": "python3",
      "display_name": "Python 3"
    },
    "language_info": {
      "name": "python"
    }
  },
  "cells": [
    {
      "cell_type": "code",
      "execution_count": null,
      "metadata": {
        "colab": {
          "base_uri": "https://localhost:8080/"
        },
        "id": "DR2hVcxzy0lH",
        "outputId": "8d727004-11ab-40c7-dfa7-f5f0e4c78760"
      },
      "outputs": [
        {
          "output_type": "stream",
          "name": "stdout",
          "text": [
            "Collecting scikit-surprise\n",
            "  Downloading scikit_surprise-1.1.4.tar.gz (154 kB)\n",
            "\u001b[?25l     \u001b[90m━━━━━━━━━━━━━━━━━━━━━━━━━━━━━━━━━━━━━━━━\u001b[0m \u001b[32m0.0/154.4 kB\u001b[0m \u001b[31m?\u001b[0m eta \u001b[36m-:--:--\u001b[0m\r\u001b[2K     \u001b[91m━━━━━━━━━━━━━━━━━━━━━━━━━━━━━━━━━━━━━━━\u001b[0m\u001b[91m╸\u001b[0m \u001b[32m153.6/154.4 kB\u001b[0m \u001b[31m6.7 MB/s\u001b[0m eta \u001b[36m0:00:01\u001b[0m\r\u001b[2K     \u001b[90m━━━━━━━━━━━━━━━━━━━━━━━━━━━━━━━━━━━━━━━━\u001b[0m \u001b[32m154.4/154.4 kB\u001b[0m \u001b[31m3.7 MB/s\u001b[0m eta \u001b[36m0:00:00\u001b[0m\n",
            "\u001b[?25h  Installing build dependencies ... \u001b[?25l\u001b[?25hdone\n",
            "  Getting requirements to build wheel ... \u001b[?25l\u001b[?25hdone\n",
            "  Preparing metadata (pyproject.toml) ... \u001b[?25l\u001b[?25hdone\n",
            "Requirement already satisfied: joblib>=1.2.0 in /usr/local/lib/python3.11/dist-packages (from scikit-surprise) (1.4.2)\n",
            "Requirement already satisfied: numpy>=1.19.5 in /usr/local/lib/python3.11/dist-packages (from scikit-surprise) (1.26.4)\n",
            "Requirement already satisfied: scipy>=1.6.0 in /usr/local/lib/python3.11/dist-packages (from scikit-surprise) (1.13.1)\n",
            "Building wheels for collected packages: scikit-surprise\n",
            "  Building wheel for scikit-surprise (pyproject.toml) ... \u001b[?25l\u001b[?25hdone\n",
            "  Created wheel for scikit-surprise: filename=scikit_surprise-1.1.4-cp311-cp311-linux_x86_64.whl size=2505181 sha256=ed6d281f04220e34a1b7d54c643ee613257425f31307f95ebf1cdcd43ff40b62\n",
            "  Stored in directory: /root/.cache/pip/wheels/2a/8f/6e/7e2899163e2d85d8266daab4aa1cdabec7a6c56f83c015b5af\n",
            "Successfully built scikit-surprise\n",
            "Installing collected packages: scikit-surprise\n",
            "Successfully installed scikit-surprise-1.1.4\n"
          ]
        }
      ],
      "source": [
        "pip install scikit-surprise\n"
      ]
    },
    {
      "cell_type": "code",
      "source": [
        "pip show scikit-surprise\n"
      ],
      "metadata": {
        "colab": {
          "base_uri": "https://localhost:8080/"
        },
        "id": "RV3KpezCy4rr",
        "outputId": "02f1d57f-f34a-441f-edc4-281f787cfdb4"
      },
      "execution_count": null,
      "outputs": [
        {
          "output_type": "stream",
          "name": "stdout",
          "text": [
            "Name: scikit-surprise\n",
            "Version: 1.1.4\n",
            "Summary: An easy-to-use library for recommender systems.\n",
            "Home-page: https://surpriselib.com\n",
            "Author: \n",
            "Author-email: Nicolas Hug <contact@nicolas-hug.com>\n",
            "License: Copyright (c) 2016, Nicolas Hug\n",
            "All rights reserved.\n",
            "\n",
            "Redistribution and use in source and binary forms, with or without\n",
            "modification, are permitted provided that the following conditions are met:\n",
            "\n",
            "1. Redistributions of source code must retain the above copyright notice, this\n",
            "   list of conditions and the following disclaimer.\n",
            "\n",
            "2. Redistributions in binary form must reproduce the above copyright notice,\n",
            "  this list of conditions and the following disclaimer in the documentation\n",
            "  and/or other materials provided with the distribution.\n",
            "\n",
            "3. Neither the name of the copyright holder nor the names of its contributors\n",
            "   may be used to endorse or promote products derived from this software\n",
            "   without specific prior written permission.\n",
            "\n",
            "THIS SOFTWARE IS PROVIDED BY THE COPYRIGHT HOLDERS AND CONTRIBUTORS \"AS IS\" AND\n",
            "ANY EXPRESS OR IMPLIED WARRANTIES, INCLUDING, BUT NOT LIMITED TO, THE IMPLIED\n",
            "WARRANTIES OF MERCHANTABILITY AND FITNESS FOR A PARTICULAR PURPOSE ARE\n",
            "DISCLAIMED. IN NO EVENT SHALL THE COPYRIGHT HOLDER OR CONTRIBUTORS BE LIABLE\n",
            "FOR ANY DIRECT, INDIRECT, INCIDENTAL, SPECIAL, EXEMPLARY, OR CONSEQUENTIAL\n",
            "DAMAGES (INCLUDING, BUT NOT LIMITED TO, PROCUREMENT OF SUBSTITUTE GOODS OR\n",
            "SERVICES; LOSS OF USE, DATA, OR PROFITS; OR BUSINESS INTERRUPTION) HOWEVER\n",
            "CAUSED AND ON ANY THEORY OF LIABILITY, WHETHER IN CONTRACT, STRICT LIABILITY,\n",
            "OR TORT (INCLUDING NEGLIGENCE OR OTHERWISE) ARISING IN ANY WAY OUT OF THE USE\n",
            "OF THIS SOFTWARE, EVEN IF ADVISED OF THE POSSIBILITY OF SUCH DAMAGE.\n",
            "\n",
            "Location: /usr/local/lib/python3.11/dist-packages\n",
            "Requires: joblib, numpy, scipy\n",
            "Required-by: \n"
          ]
        }
      ]
    },
    {
      "cell_type": "code",
      "source": [
        "!pip install kagglehub\n"
      ],
      "metadata": {
        "colab": {
          "base_uri": "https://localhost:8080/"
        },
        "id": "k60PWQSAzYRS",
        "outputId": "217d2df7-4fcf-4491-ebea-f748d8f46fb4"
      },
      "execution_count": null,
      "outputs": [
        {
          "output_type": "stream",
          "name": "stdout",
          "text": [
            "Requirement already satisfied: kagglehub in /usr/local/lib/python3.11/dist-packages (0.3.6)\n",
            "Requirement already satisfied: packaging in /usr/local/lib/python3.11/dist-packages (from kagglehub) (24.2)\n",
            "Requirement already satisfied: requests in /usr/local/lib/python3.11/dist-packages (from kagglehub) (2.32.3)\n",
            "Requirement already satisfied: tqdm in /usr/local/lib/python3.11/dist-packages (from kagglehub) (4.67.1)\n",
            "Requirement already satisfied: charset-normalizer<4,>=2 in /usr/local/lib/python3.11/dist-packages (from requests->kagglehub) (3.4.1)\n",
            "Requirement already satisfied: idna<4,>=2.5 in /usr/local/lib/python3.11/dist-packages (from requests->kagglehub) (3.10)\n",
            "Requirement already satisfied: urllib3<3,>=1.21.1 in /usr/local/lib/python3.11/dist-packages (from requests->kagglehub) (2.3.0)\n",
            "Requirement already satisfied: certifi>=2017.4.17 in /usr/local/lib/python3.11/dist-packages (from requests->kagglehub) (2024.12.14)\n"
          ]
        }
      ]
    },
    {
      "cell_type": "code",
      "source": [
        "from google.colab import files\n",
        "files.upload()\n",
        "\n"
      ],
      "metadata": {
        "colab": {
          "base_uri": "https://localhost:8080/",
          "height": 90
        },
        "id": "6dmaenwNz8FF",
        "outputId": "d00f00ec-1b58-472a-9ed8-68591acad7c4"
      },
      "execution_count": null,
      "outputs": [
        {
          "output_type": "display_data",
          "data": {
            "text/plain": [
              "<IPython.core.display.HTML object>"
            ],
            "text/html": [
              "\n",
              "     <input type=\"file\" id=\"files-6a6418dc-e1d7-4017-9a90-cae09af5c6ac\" name=\"files[]\" multiple disabled\n",
              "        style=\"border:none\" />\n",
              "     <output id=\"result-6a6418dc-e1d7-4017-9a90-cae09af5c6ac\">\n",
              "      Upload widget is only available when the cell has been executed in the\n",
              "      current browser session. Please rerun this cell to enable.\n",
              "      </output>\n",
              "      <script>// Copyright 2017 Google LLC\n",
              "//\n",
              "// Licensed under the Apache License, Version 2.0 (the \"License\");\n",
              "// you may not use this file except in compliance with the License.\n",
              "// You may obtain a copy of the License at\n",
              "//\n",
              "//      http://www.apache.org/licenses/LICENSE-2.0\n",
              "//\n",
              "// Unless required by applicable law or agreed to in writing, software\n",
              "// distributed under the License is distributed on an \"AS IS\" BASIS,\n",
              "// WITHOUT WARRANTIES OR CONDITIONS OF ANY KIND, either express or implied.\n",
              "// See the License for the specific language governing permissions and\n",
              "// limitations under the License.\n",
              "\n",
              "/**\n",
              " * @fileoverview Helpers for google.colab Python module.\n",
              " */\n",
              "(function(scope) {\n",
              "function span(text, styleAttributes = {}) {\n",
              "  const element = document.createElement('span');\n",
              "  element.textContent = text;\n",
              "  for (const key of Object.keys(styleAttributes)) {\n",
              "    element.style[key] = styleAttributes[key];\n",
              "  }\n",
              "  return element;\n",
              "}\n",
              "\n",
              "// Max number of bytes which will be uploaded at a time.\n",
              "const MAX_PAYLOAD_SIZE = 100 * 1024;\n",
              "\n",
              "function _uploadFiles(inputId, outputId) {\n",
              "  const steps = uploadFilesStep(inputId, outputId);\n",
              "  const outputElement = document.getElementById(outputId);\n",
              "  // Cache steps on the outputElement to make it available for the next call\n",
              "  // to uploadFilesContinue from Python.\n",
              "  outputElement.steps = steps;\n",
              "\n",
              "  return _uploadFilesContinue(outputId);\n",
              "}\n",
              "\n",
              "// This is roughly an async generator (not supported in the browser yet),\n",
              "// where there are multiple asynchronous steps and the Python side is going\n",
              "// to poll for completion of each step.\n",
              "// This uses a Promise to block the python side on completion of each step,\n",
              "// then passes the result of the previous step as the input to the next step.\n",
              "function _uploadFilesContinue(outputId) {\n",
              "  const outputElement = document.getElementById(outputId);\n",
              "  const steps = outputElement.steps;\n",
              "\n",
              "  const next = steps.next(outputElement.lastPromiseValue);\n",
              "  return Promise.resolve(next.value.promise).then((value) => {\n",
              "    // Cache the last promise value to make it available to the next\n",
              "    // step of the generator.\n",
              "    outputElement.lastPromiseValue = value;\n",
              "    return next.value.response;\n",
              "  });\n",
              "}\n",
              "\n",
              "/**\n",
              " * Generator function which is called between each async step of the upload\n",
              " * process.\n",
              " * @param {string} inputId Element ID of the input file picker element.\n",
              " * @param {string} outputId Element ID of the output display.\n",
              " * @return {!Iterable<!Object>} Iterable of next steps.\n",
              " */\n",
              "function* uploadFilesStep(inputId, outputId) {\n",
              "  const inputElement = document.getElementById(inputId);\n",
              "  inputElement.disabled = false;\n",
              "\n",
              "  const outputElement = document.getElementById(outputId);\n",
              "  outputElement.innerHTML = '';\n",
              "\n",
              "  const pickedPromise = new Promise((resolve) => {\n",
              "    inputElement.addEventListener('change', (e) => {\n",
              "      resolve(e.target.files);\n",
              "    });\n",
              "  });\n",
              "\n",
              "  const cancel = document.createElement('button');\n",
              "  inputElement.parentElement.appendChild(cancel);\n",
              "  cancel.textContent = 'Cancel upload';\n",
              "  const cancelPromise = new Promise((resolve) => {\n",
              "    cancel.onclick = () => {\n",
              "      resolve(null);\n",
              "    };\n",
              "  });\n",
              "\n",
              "  // Wait for the user to pick the files.\n",
              "  const files = yield {\n",
              "    promise: Promise.race([pickedPromise, cancelPromise]),\n",
              "    response: {\n",
              "      action: 'starting',\n",
              "    }\n",
              "  };\n",
              "\n",
              "  cancel.remove();\n",
              "\n",
              "  // Disable the input element since further picks are not allowed.\n",
              "  inputElement.disabled = true;\n",
              "\n",
              "  if (!files) {\n",
              "    return {\n",
              "      response: {\n",
              "        action: 'complete',\n",
              "      }\n",
              "    };\n",
              "  }\n",
              "\n",
              "  for (const file of files) {\n",
              "    const li = document.createElement('li');\n",
              "    li.append(span(file.name, {fontWeight: 'bold'}));\n",
              "    li.append(span(\n",
              "        `(${file.type || 'n/a'}) - ${file.size} bytes, ` +\n",
              "        `last modified: ${\n",
              "            file.lastModifiedDate ? file.lastModifiedDate.toLocaleDateString() :\n",
              "                                    'n/a'} - `));\n",
              "    const percent = span('0% done');\n",
              "    li.appendChild(percent);\n",
              "\n",
              "    outputElement.appendChild(li);\n",
              "\n",
              "    const fileDataPromise = new Promise((resolve) => {\n",
              "      const reader = new FileReader();\n",
              "      reader.onload = (e) => {\n",
              "        resolve(e.target.result);\n",
              "      };\n",
              "      reader.readAsArrayBuffer(file);\n",
              "    });\n",
              "    // Wait for the data to be ready.\n",
              "    let fileData = yield {\n",
              "      promise: fileDataPromise,\n",
              "      response: {\n",
              "        action: 'continue',\n",
              "      }\n",
              "    };\n",
              "\n",
              "    // Use a chunked sending to avoid message size limits. See b/62115660.\n",
              "    let position = 0;\n",
              "    do {\n",
              "      const length = Math.min(fileData.byteLength - position, MAX_PAYLOAD_SIZE);\n",
              "      const chunk = new Uint8Array(fileData, position, length);\n",
              "      position += length;\n",
              "\n",
              "      const base64 = btoa(String.fromCharCode.apply(null, chunk));\n",
              "      yield {\n",
              "        response: {\n",
              "          action: 'append',\n",
              "          file: file.name,\n",
              "          data: base64,\n",
              "        },\n",
              "      };\n",
              "\n",
              "      let percentDone = fileData.byteLength === 0 ?\n",
              "          100 :\n",
              "          Math.round((position / fileData.byteLength) * 100);\n",
              "      percent.textContent = `${percentDone}% done`;\n",
              "\n",
              "    } while (position < fileData.byteLength);\n",
              "  }\n",
              "\n",
              "  // All done.\n",
              "  yield {\n",
              "    response: {\n",
              "      action: 'complete',\n",
              "    }\n",
              "  };\n",
              "}\n",
              "\n",
              "scope.google = scope.google || {};\n",
              "scope.google.colab = scope.google.colab || {};\n",
              "scope.google.colab._files = {\n",
              "  _uploadFiles,\n",
              "  _uploadFilesContinue,\n",
              "};\n",
              "})(self);\n",
              "</script> "
            ]
          },
          "metadata": {}
        },
        {
          "output_type": "stream",
          "name": "stdout",
          "text": [
            "Saving kaggle.json to kaggle.json\n"
          ]
        },
        {
          "output_type": "execute_result",
          "data": {
            "text/plain": [
              "{'kaggle.json': b'{\"username\":\"mirapadilip\",\"key\":\"22bf6850ad2031d84e66d3d671db4377\"}'}"
            ]
          },
          "metadata": {},
          "execution_count": 4
        }
      ]
    },
    {
      "cell_type": "code",
      "source": [
        "!mkdir -p ~/.kaggle\n",
        "!cp kaggle.json ~/.kaggle/\n",
        "!chmod 600 ~/.kaggle/kaggle.json\n"
      ],
      "metadata": {
        "id": "ANZdFVL40Sri"
      },
      "execution_count": null,
      "outputs": []
    },
    {
      "cell_type": "code",
      "source": [
        "import kagglehub\n",
        "\n",
        "path = kagglehub.dataset_download(\"karkavelrajaj/amazon-sales-dataset\")\n",
        "\n",
        "print(\"Path to dataset files:\", path)\n"
      ],
      "metadata": {
        "colab": {
          "base_uri": "https://localhost:8080/"
        },
        "id": "Z-NFh2F_0bBt",
        "outputId": "54d877e5-b7f1-4b84-894f-1d3d88e23ace"
      },
      "execution_count": null,
      "outputs": [
        {
          "output_type": "stream",
          "name": "stdout",
          "text": [
            "Downloading from https://www.kaggle.com/api/v1/datasets/download/karkavelrajaj/amazon-sales-dataset?dataset_version_number=1...\n"
          ]
        },
        {
          "output_type": "stream",
          "name": "stderr",
          "text": [
            "100%|██████████| 1.95M/1.95M [00:00<00:00, 125MB/s]"
          ]
        },
        {
          "output_type": "stream",
          "name": "stdout",
          "text": [
            "Extracting files...\n",
            "Path to dataset files: /root/.cache/kagglehub/datasets/karkavelrajaj/amazon-sales-dataset/versions/1\n"
          ]
        },
        {
          "output_type": "stream",
          "name": "stderr",
          "text": [
            "\n"
          ]
        }
      ]
    },
    {
      "cell_type": "code",
      "source": [
        "print(\"Dataset directory:\", path)\n"
      ],
      "metadata": {
        "colab": {
          "base_uri": "https://localhost:8080/"
        },
        "id": "bPqsasj-0hFn",
        "outputId": "387c6205-a8af-4993-f398-70a406fe694b"
      },
      "execution_count": null,
      "outputs": [
        {
          "output_type": "stream",
          "name": "stdout",
          "text": [
            "Dataset directory: /root/.cache/kagglehub/datasets/karkavelrajaj/amazon-sales-dataset/versions/1\n"
          ]
        }
      ]
    },
    {
      "cell_type": "code",
      "source": [
        "import os\n",
        "\n",
        "files = os.listdir(path)\n",
        "print(\"Files in the dataset directory:\", files)\n"
      ],
      "metadata": {
        "colab": {
          "base_uri": "https://localhost:8080/"
        },
        "id": "9g7DtNdW08zx",
        "outputId": "93addd98-49b8-4071-847d-5dd6d742c9e9"
      },
      "execution_count": null,
      "outputs": [
        {
          "output_type": "stream",
          "name": "stdout",
          "text": [
            "Files in the dataset directory: ['amazon.csv']\n"
          ]
        }
      ]
    },
    {
      "cell_type": "code",
      "source": [
        "import os\n",
        "\n",
        "\n",
        "dataset_directory = \"/root/.cache/kagglehub/datasets/karkavelrajaj/amazon-sales-dataset/versions/1\"\n",
        "files = os.listdir(dataset_directory)\n",
        "print(\"Files in the dataset directory:\", files)\n"
      ],
      "metadata": {
        "colab": {
          "base_uri": "https://localhost:8080/"
        },
        "id": "Vj9Wgg-j1CHD",
        "outputId": "05b53af6-aac1-49c9-96e7-0ad7144f2e49"
      },
      "execution_count": null,
      "outputs": [
        {
          "output_type": "stream",
          "name": "stdout",
          "text": [
            "Files in the dataset directory: ['amazon.csv']\n"
          ]
        }
      ]
    },
    {
      "cell_type": "code",
      "source": [
        "import pandas as pd\n",
        "\n",
        "file_path = f\"{dataset_directory}/amazon.csv\"\n",
        "df = pd.read_csv(file_path)\n",
        "\n",
        "print(df.head())\n"
      ],
      "metadata": {
        "colab": {
          "base_uri": "https://localhost:8080/"
        },
        "id": "ZCjyDMq81P2b",
        "outputId": "61c45ffc-d750-48ae-af59-8301cde43068"
      },
      "execution_count": null,
      "outputs": [
        {
          "output_type": "stream",
          "name": "stdout",
          "text": [
            "   product_id                                       product_name  \\\n",
            "0  B07JW9H4J1  Wayona Nylon Braided USB to Lightning Fast Cha...   \n",
            "1  B098NS6PVG  Ambrane Unbreakable 60W / 3A Fast Charging 1.5...   \n",
            "2  B096MSW6CT  Sounce Fast Phone Charging Cable & Data Sync U...   \n",
            "3  B08HDJ86NZ  boAt Deuce USB 300 2 in 1 Type-C & Micro USB S...   \n",
            "4  B08CF3B7N1  Portronics Konnect L 1.2M Fast Charging 3A 8 P...   \n",
            "\n",
            "                                            category discounted_price  \\\n",
            "0  Computers&Accessories|Accessories&Peripherals|...             ₹399   \n",
            "1  Computers&Accessories|Accessories&Peripherals|...             ₹199   \n",
            "2  Computers&Accessories|Accessories&Peripherals|...             ₹199   \n",
            "3  Computers&Accessories|Accessories&Peripherals|...             ₹329   \n",
            "4  Computers&Accessories|Accessories&Peripherals|...             ₹154   \n",
            "\n",
            "  actual_price discount_percentage rating rating_count  \\\n",
            "0       ₹1,099                 64%    4.2       24,269   \n",
            "1         ₹349                 43%    4.0       43,994   \n",
            "2       ₹1,899                 90%    3.9        7,928   \n",
            "3         ₹699                 53%    4.2       94,363   \n",
            "4         ₹399                 61%    4.2       16,905   \n",
            "\n",
            "                                       about_product  \\\n",
            "0  High Compatibility : Compatible With iPhone 12...   \n",
            "1  Compatible with all Type C enabled devices, be...   \n",
            "2  【 Fast Charger& Data Sync】-With built-in safet...   \n",
            "3  The boAt Deuce USB 300 2 in 1 cable is compati...   \n",
            "4  [CHARGE & SYNC FUNCTION]- This cable comes wit...   \n",
            "\n",
            "                                             user_id  \\\n",
            "0  AG3D6O4STAQKAY2UVGEUV46KN35Q,AHMY5CWJMMK5BJRBB...   \n",
            "1  AECPFYFQVRUWC3KGNLJIOREFP5LQ,AGYYVPDD7YG7FYNBX...   \n",
            "2  AGU3BBQ2V2DDAMOAKGFAWDDQ6QHA,AESFLDV2PT363T2AQ...   \n",
            "3  AEWAZDZZJLQUYVOVGBEUKSLXHQ5A,AG5HTSFRRE6NL3M5S...   \n",
            "4  AE3Q6KSUK5P75D5HFYHCRAOLODSA,AFUGIFH5ZAFXRDSZH...   \n",
            "\n",
            "                                           user_name  \\\n",
            "0  Manav,Adarsh gupta,Sundeep,S.Sayeed Ahmed,jasp...   \n",
            "1  ArdKn,Nirbhay kumar,Sagar Viswanathan,Asp,Plac...   \n",
            "2  Kunal,Himanshu,viswanath,sai niharka,saqib mal...   \n",
            "3  Omkar dhale,JD,HEMALATHA,Ajwadh a.,amar singh ...   \n",
            "4  rahuls6099,Swasat Borah,Ajay Wadke,Pranali,RVK...   \n",
            "\n",
            "                                           review_id  \\\n",
            "0  R3HXWT0LRP0NMF,R2AJM3LFTLZHFO,R6AQJGUP6P86,R1K...   \n",
            "1  RGIQEG07R9HS2,R1SMWZQ86XIN8U,R2J3Y1WL29GWDE,RY...   \n",
            "2  R3J3EQQ9TZI5ZJ,R3E7WBGK7ID0KV,RWU79XKQ6I1QF,R2...   \n",
            "3  R3EEUZKKK9J36I,R3HJVYCLYOY554,REDECAZ7AMPQC,R1...   \n",
            "4  R1BP4L2HH9TFUP,R16PVJEXKV6QZS,R2UPDB81N66T4P,R...   \n",
            "\n",
            "                                        review_title  \\\n",
            "0  Satisfied,Charging is really fast,Value for mo...   \n",
            "1  A Good Braided Cable for Your Type C Device,Go...   \n",
            "2  Good speed for earlier versions,Good Product,W...   \n",
            "3  Good product,Good one,Nice,Really nice product...   \n",
            "4  As good as original,Decent,Good one for second...   \n",
            "\n",
            "                                      review_content  \\\n",
            "0  Looks durable Charging is fine tooNo complains...   \n",
            "1  I ordered this cable to connect my phone to An...   \n",
            "2  Not quite durable and sturdy,https://m.media-a...   \n",
            "3  Good product,long wire,Charges good,Nice,I bou...   \n",
            "4  Bought this instead of original apple, does th...   \n",
            "\n",
            "                                            img_link  \\\n",
            "0  https://m.media-amazon.com/images/W/WEBP_40237...   \n",
            "1  https://m.media-amazon.com/images/W/WEBP_40237...   \n",
            "2  https://m.media-amazon.com/images/W/WEBP_40237...   \n",
            "3  https://m.media-amazon.com/images/I/41V5FtEWPk...   \n",
            "4  https://m.media-amazon.com/images/W/WEBP_40237...   \n",
            "\n",
            "                                        product_link  \n",
            "0  https://www.amazon.in/Wayona-Braided-WN3LG1-Sy...  \n",
            "1  https://www.amazon.in/Ambrane-Unbreakable-Char...  \n",
            "2  https://www.amazon.in/Sounce-iPhone-Charging-C...  \n",
            "3  https://www.amazon.in/Deuce-300-Resistant-Tang...  \n",
            "4  https://www.amazon.in/Portronics-Konnect-POR-1...  \n"
          ]
        }
      ]
    },
    {
      "cell_type": "code",
      "source": [
        "print(df.head())\n",
        "print(df.info())\n"
      ],
      "metadata": {
        "colab": {
          "base_uri": "https://localhost:8080/"
        },
        "id": "8KBSQJzu1TQe",
        "outputId": "5af06c53-4a51-4a2a-c018-5f72ccf6c494"
      },
      "execution_count": null,
      "outputs": [
        {
          "output_type": "stream",
          "name": "stdout",
          "text": [
            "   product_id                                       product_name  \\\n",
            "0  B07JW9H4J1  Wayona Nylon Braided USB to Lightning Fast Cha...   \n",
            "1  B098NS6PVG  Ambrane Unbreakable 60W / 3A Fast Charging 1.5...   \n",
            "2  B096MSW6CT  Sounce Fast Phone Charging Cable & Data Sync U...   \n",
            "3  B08HDJ86NZ  boAt Deuce USB 300 2 in 1 Type-C & Micro USB S...   \n",
            "4  B08CF3B7N1  Portronics Konnect L 1.2M Fast Charging 3A 8 P...   \n",
            "\n",
            "                                            category discounted_price  \\\n",
            "0  Computers&Accessories|Accessories&Peripherals|...             ₹399   \n",
            "1  Computers&Accessories|Accessories&Peripherals|...             ₹199   \n",
            "2  Computers&Accessories|Accessories&Peripherals|...             ₹199   \n",
            "3  Computers&Accessories|Accessories&Peripherals|...             ₹329   \n",
            "4  Computers&Accessories|Accessories&Peripherals|...             ₹154   \n",
            "\n",
            "  actual_price discount_percentage rating rating_count  \\\n",
            "0       ₹1,099                 64%    4.2       24,269   \n",
            "1         ₹349                 43%    4.0       43,994   \n",
            "2       ₹1,899                 90%    3.9        7,928   \n",
            "3         ₹699                 53%    4.2       94,363   \n",
            "4         ₹399                 61%    4.2       16,905   \n",
            "\n",
            "                                       about_product  \\\n",
            "0  High Compatibility : Compatible With iPhone 12...   \n",
            "1  Compatible with all Type C enabled devices, be...   \n",
            "2  【 Fast Charger& Data Sync】-With built-in safet...   \n",
            "3  The boAt Deuce USB 300 2 in 1 cable is compati...   \n",
            "4  [CHARGE & SYNC FUNCTION]- This cable comes wit...   \n",
            "\n",
            "                                             user_id  \\\n",
            "0  AG3D6O4STAQKAY2UVGEUV46KN35Q,AHMY5CWJMMK5BJRBB...   \n",
            "1  AECPFYFQVRUWC3KGNLJIOREFP5LQ,AGYYVPDD7YG7FYNBX...   \n",
            "2  AGU3BBQ2V2DDAMOAKGFAWDDQ6QHA,AESFLDV2PT363T2AQ...   \n",
            "3  AEWAZDZZJLQUYVOVGBEUKSLXHQ5A,AG5HTSFRRE6NL3M5S...   \n",
            "4  AE3Q6KSUK5P75D5HFYHCRAOLODSA,AFUGIFH5ZAFXRDSZH...   \n",
            "\n",
            "                                           user_name  \\\n",
            "0  Manav,Adarsh gupta,Sundeep,S.Sayeed Ahmed,jasp...   \n",
            "1  ArdKn,Nirbhay kumar,Sagar Viswanathan,Asp,Plac...   \n",
            "2  Kunal,Himanshu,viswanath,sai niharka,saqib mal...   \n",
            "3  Omkar dhale,JD,HEMALATHA,Ajwadh a.,amar singh ...   \n",
            "4  rahuls6099,Swasat Borah,Ajay Wadke,Pranali,RVK...   \n",
            "\n",
            "                                           review_id  \\\n",
            "0  R3HXWT0LRP0NMF,R2AJM3LFTLZHFO,R6AQJGUP6P86,R1K...   \n",
            "1  RGIQEG07R9HS2,R1SMWZQ86XIN8U,R2J3Y1WL29GWDE,RY...   \n",
            "2  R3J3EQQ9TZI5ZJ,R3E7WBGK7ID0KV,RWU79XKQ6I1QF,R2...   \n",
            "3  R3EEUZKKK9J36I,R3HJVYCLYOY554,REDECAZ7AMPQC,R1...   \n",
            "4  R1BP4L2HH9TFUP,R16PVJEXKV6QZS,R2UPDB81N66T4P,R...   \n",
            "\n",
            "                                        review_title  \\\n",
            "0  Satisfied,Charging is really fast,Value for mo...   \n",
            "1  A Good Braided Cable for Your Type C Device,Go...   \n",
            "2  Good speed for earlier versions,Good Product,W...   \n",
            "3  Good product,Good one,Nice,Really nice product...   \n",
            "4  As good as original,Decent,Good one for second...   \n",
            "\n",
            "                                      review_content  \\\n",
            "0  Looks durable Charging is fine tooNo complains...   \n",
            "1  I ordered this cable to connect my phone to An...   \n",
            "2  Not quite durable and sturdy,https://m.media-a...   \n",
            "3  Good product,long wire,Charges good,Nice,I bou...   \n",
            "4  Bought this instead of original apple, does th...   \n",
            "\n",
            "                                            img_link  \\\n",
            "0  https://m.media-amazon.com/images/W/WEBP_40237...   \n",
            "1  https://m.media-amazon.com/images/W/WEBP_40237...   \n",
            "2  https://m.media-amazon.com/images/W/WEBP_40237...   \n",
            "3  https://m.media-amazon.com/images/I/41V5FtEWPk...   \n",
            "4  https://m.media-amazon.com/images/W/WEBP_40237...   \n",
            "\n",
            "                                        product_link  \n",
            "0  https://www.amazon.in/Wayona-Braided-WN3LG1-Sy...  \n",
            "1  https://www.amazon.in/Ambrane-Unbreakable-Char...  \n",
            "2  https://www.amazon.in/Sounce-iPhone-Charging-C...  \n",
            "3  https://www.amazon.in/Deuce-300-Resistant-Tang...  \n",
            "4  https://www.amazon.in/Portronics-Konnect-POR-1...  \n",
            "<class 'pandas.core.frame.DataFrame'>\n",
            "RangeIndex: 1465 entries, 0 to 1464\n",
            "Data columns (total 16 columns):\n",
            " #   Column               Non-Null Count  Dtype \n",
            "---  ------               --------------  ----- \n",
            " 0   product_id           1465 non-null   object\n",
            " 1   product_name         1465 non-null   object\n",
            " 2   category             1465 non-null   object\n",
            " 3   discounted_price     1465 non-null   object\n",
            " 4   actual_price         1465 non-null   object\n",
            " 5   discount_percentage  1465 non-null   object\n",
            " 6   rating               1465 non-null   object\n",
            " 7   rating_count         1463 non-null   object\n",
            " 8   about_product        1465 non-null   object\n",
            " 9   user_id              1465 non-null   object\n",
            " 10  user_name            1465 non-null   object\n",
            " 11  review_id            1465 non-null   object\n",
            " 12  review_title         1465 non-null   object\n",
            " 13  review_content       1465 non-null   object\n",
            " 14  img_link             1465 non-null   object\n",
            " 15  product_link         1465 non-null   object\n",
            "dtypes: object(16)\n",
            "memory usage: 183.3+ KB\n",
            "None\n"
          ]
        }
      ]
    },
    {
      "cell_type": "code",
      "source": [
        "df['discounted_price'] = df['discounted_price'].replace('₹', '', regex=True).astype(float)\n",
        "df['actual_price'] = df['actual_price'].replace('₹', '', regex=True).astype(float)\n",
        "\n",
        "df['rating'] = pd.to_numeric(df['rating'], errors='coerce')\n",
        "df['rating_count'] = pd.to_numeric(df['rating_count'], errors='coerce')\n",
        "\n",
        "df['rating_count'] = df['rating_count'].fillna(df['rating_count'].mean())\n",
        "\n",
        "print(df.head())\n"
      ],
      "metadata": {
        "colab": {
          "base_uri": "https://localhost:8080/"
        },
        "id": "26n385z_1qVe",
        "outputId": "db33ce78-c69d-4a24-ea10-9d777b401d05"
      },
      "execution_count": null,
      "outputs": [
        {
          "output_type": "stream",
          "name": "stdout",
          "text": [
            "   product_id                                       product_name  \\\n",
            "0  B07JW9H4J1  Wayona Nylon Braided USB to Lightning Fast Cha...   \n",
            "1  B098NS6PVG  Ambrane Unbreakable 60W / 3A Fast Charging 1.5...   \n",
            "2  B096MSW6CT  Sounce Fast Phone Charging Cable & Data Sync U...   \n",
            "3  B08HDJ86NZ  boAt Deuce USB 300 2 in 1 Type-C & Micro USB S...   \n",
            "4  B08CF3B7N1  Portronics Konnect L 1.2M Fast Charging 3A 8 P...   \n",
            "\n",
            "                                            category  discounted_price  \\\n",
            "0  Computers&Accessories|Accessories&Peripherals|...             399.0   \n",
            "1  Computers&Accessories|Accessories&Peripherals|...             199.0   \n",
            "2  Computers&Accessories|Accessories&Peripherals|...             199.0   \n",
            "3  Computers&Accessories|Accessories&Peripherals|...             329.0   \n",
            "4  Computers&Accessories|Accessories&Peripherals|...             154.0   \n",
            "\n",
            "   actual_price discount_percentage  rating  rating_count  \\\n",
            "0        1099.0                 64%     4.2    348.217791   \n",
            "1         349.0                 43%     4.0    348.217791   \n",
            "2        1899.0                 90%     3.9    348.217791   \n",
            "3         699.0                 53%     4.2    348.217791   \n",
            "4         399.0                 61%     4.2    348.217791   \n",
            "\n",
            "                                       about_product  \\\n",
            "0  High Compatibility : Compatible With iPhone 12...   \n",
            "1  Compatible with all Type C enabled devices, be...   \n",
            "2  【 Fast Charger& Data Sync】-With built-in safet...   \n",
            "3  The boAt Deuce USB 300 2 in 1 cable is compati...   \n",
            "4  [CHARGE & SYNC FUNCTION]- This cable comes wit...   \n",
            "\n",
            "                                             user_id  \\\n",
            "0  AG3D6O4STAQKAY2UVGEUV46KN35Q,AHMY5CWJMMK5BJRBB...   \n",
            "1  AECPFYFQVRUWC3KGNLJIOREFP5LQ,AGYYVPDD7YG7FYNBX...   \n",
            "2  AGU3BBQ2V2DDAMOAKGFAWDDQ6QHA,AESFLDV2PT363T2AQ...   \n",
            "3  AEWAZDZZJLQUYVOVGBEUKSLXHQ5A,AG5HTSFRRE6NL3M5S...   \n",
            "4  AE3Q6KSUK5P75D5HFYHCRAOLODSA,AFUGIFH5ZAFXRDSZH...   \n",
            "\n",
            "                                           user_name  \\\n",
            "0  Manav,Adarsh gupta,Sundeep,S.Sayeed Ahmed,jasp...   \n",
            "1  ArdKn,Nirbhay kumar,Sagar Viswanathan,Asp,Plac...   \n",
            "2  Kunal,Himanshu,viswanath,sai niharka,saqib mal...   \n",
            "3  Omkar dhale,JD,HEMALATHA,Ajwadh a.,amar singh ...   \n",
            "4  rahuls6099,Swasat Borah,Ajay Wadke,Pranali,RVK...   \n",
            "\n",
            "                                           review_id  \\\n",
            "0  R3HXWT0LRP0NMF,R2AJM3LFTLZHFO,R6AQJGUP6P86,R1K...   \n",
            "1  RGIQEG07R9HS2,R1SMWZQ86XIN8U,R2J3Y1WL29GWDE,RY...   \n",
            "2  R3J3EQQ9TZI5ZJ,R3E7WBGK7ID0KV,RWU79XKQ6I1QF,R2...   \n",
            "3  R3EEUZKKK9J36I,R3HJVYCLYOY554,REDECAZ7AMPQC,R1...   \n",
            "4  R1BP4L2HH9TFUP,R16PVJEXKV6QZS,R2UPDB81N66T4P,R...   \n",
            "\n",
            "                                        review_title  \\\n",
            "0  Satisfied,Charging is really fast,Value for mo...   \n",
            "1  A Good Braided Cable for Your Type C Device,Go...   \n",
            "2  Good speed for earlier versions,Good Product,W...   \n",
            "3  Good product,Good one,Nice,Really nice product...   \n",
            "4  As good as original,Decent,Good one for second...   \n",
            "\n",
            "                                      review_content  \\\n",
            "0  Looks durable Charging is fine tooNo complains...   \n",
            "1  I ordered this cable to connect my phone to An...   \n",
            "2  Not quite durable and sturdy,https://m.media-a...   \n",
            "3  Good product,long wire,Charges good,Nice,I bou...   \n",
            "4  Bought this instead of original apple, does th...   \n",
            "\n",
            "                                            img_link  \\\n",
            "0  https://m.media-amazon.com/images/W/WEBP_40237...   \n",
            "1  https://m.media-amazon.com/images/W/WEBP_40237...   \n",
            "2  https://m.media-amazon.com/images/W/WEBP_40237...   \n",
            "3  https://m.media-amazon.com/images/I/41V5FtEWPk...   \n",
            "4  https://m.media-amazon.com/images/W/WEBP_40237...   \n",
            "\n",
            "                                        product_link  \n",
            "0  https://www.amazon.in/Wayona-Braided-WN3LG1-Sy...  \n",
            "1  https://www.amazon.in/Ambrane-Unbreakable-Char...  \n",
            "2  https://www.amazon.in/Sounce-iPhone-Charging-C...  \n",
            "3  https://www.amazon.in/Deuce-300-Resistant-Tang...  \n",
            "4  https://www.amazon.in/Portronics-Konnect-POR-1...  \n"
          ]
        }
      ]
    },
    {
      "cell_type": "code",
      "source": [],
      "metadata": {
        "id": "hdlgHMtIBVGi"
      },
      "execution_count": null,
      "outputs": []
    },
    {
      "cell_type": "code",
      "source": [
        "df['discounted_price'] = df['discounted_price'].replace({'₹': '', ',': ''}, regex=True).astype(float)\n",
        "df['actual_price'] = df['actual_price'].replace({'₹': '', ',': ''}, regex=True).astype(float)\n",
        "\n",
        "df['rating'] = pd.to_numeric(df['rating'], errors='coerce')\n",
        "df['rating_count'] = pd.to_numeric(df['rating_count'], errors='coerce')\n",
        "\n",
        "df['rating_count'] = df['rating_count'].fillna(df['rating_count'].mean())\n",
        "\n",
        "print(df.head())\n"
      ],
      "metadata": {
        "colab": {
          "base_uri": "https://localhost:8080/"
        },
        "id": "VlIYffmG18r4",
        "outputId": "2b300843-73c3-4e80-93f0-3162529cd751"
      },
      "execution_count": null,
      "outputs": [
        {
          "output_type": "stream",
          "name": "stdout",
          "text": [
            "   product_id                                       product_name  \\\n",
            "0  B07JW9H4J1  Wayona Nylon Braided USB to Lightning Fast Cha...   \n",
            "1  B098NS6PVG  Ambrane Unbreakable 60W / 3A Fast Charging 1.5...   \n",
            "2  B096MSW6CT  Sounce Fast Phone Charging Cable & Data Sync U...   \n",
            "3  B08HDJ86NZ  boAt Deuce USB 300 2 in 1 Type-C & Micro USB S...   \n",
            "4  B08CF3B7N1  Portronics Konnect L 1.2M Fast Charging 3A 8 P...   \n",
            "\n",
            "                                            category  discounted_price  \\\n",
            "0  Computers&Accessories|Accessories&Peripherals|...             399.0   \n",
            "1  Computers&Accessories|Accessories&Peripherals|...             199.0   \n",
            "2  Computers&Accessories|Accessories&Peripherals|...             199.0   \n",
            "3  Computers&Accessories|Accessories&Peripherals|...             329.0   \n",
            "4  Computers&Accessories|Accessories&Peripherals|...             154.0   \n",
            "\n",
            "   actual_price discount_percentage  rating  rating_count  \\\n",
            "0        1099.0                 64%     4.2    348.217791   \n",
            "1         349.0                 43%     4.0    348.217791   \n",
            "2        1899.0                 90%     3.9    348.217791   \n",
            "3         699.0                 53%     4.2    348.217791   \n",
            "4         399.0                 61%     4.2    348.217791   \n",
            "\n",
            "                                       about_product  \\\n",
            "0  High Compatibility : Compatible With iPhone 12...   \n",
            "1  Compatible with all Type C enabled devices, be...   \n",
            "2  【 Fast Charger& Data Sync】-With built-in safet...   \n",
            "3  The boAt Deuce USB 300 2 in 1 cable is compati...   \n",
            "4  [CHARGE & SYNC FUNCTION]- This cable comes wit...   \n",
            "\n",
            "                                             user_id  \\\n",
            "0  AG3D6O4STAQKAY2UVGEUV46KN35Q,AHMY5CWJMMK5BJRBB...   \n",
            "1  AECPFYFQVRUWC3KGNLJIOREFP5LQ,AGYYVPDD7YG7FYNBX...   \n",
            "2  AGU3BBQ2V2DDAMOAKGFAWDDQ6QHA,AESFLDV2PT363T2AQ...   \n",
            "3  AEWAZDZZJLQUYVOVGBEUKSLXHQ5A,AG5HTSFRRE6NL3M5S...   \n",
            "4  AE3Q6KSUK5P75D5HFYHCRAOLODSA,AFUGIFH5ZAFXRDSZH...   \n",
            "\n",
            "                                           user_name  \\\n",
            "0  Manav,Adarsh gupta,Sundeep,S.Sayeed Ahmed,jasp...   \n",
            "1  ArdKn,Nirbhay kumar,Sagar Viswanathan,Asp,Plac...   \n",
            "2  Kunal,Himanshu,viswanath,sai niharka,saqib mal...   \n",
            "3  Omkar dhale,JD,HEMALATHA,Ajwadh a.,amar singh ...   \n",
            "4  rahuls6099,Swasat Borah,Ajay Wadke,Pranali,RVK...   \n",
            "\n",
            "                                           review_id  \\\n",
            "0  R3HXWT0LRP0NMF,R2AJM3LFTLZHFO,R6AQJGUP6P86,R1K...   \n",
            "1  RGIQEG07R9HS2,R1SMWZQ86XIN8U,R2J3Y1WL29GWDE,RY...   \n",
            "2  R3J3EQQ9TZI5ZJ,R3E7WBGK7ID0KV,RWU79XKQ6I1QF,R2...   \n",
            "3  R3EEUZKKK9J36I,R3HJVYCLYOY554,REDECAZ7AMPQC,R1...   \n",
            "4  R1BP4L2HH9TFUP,R16PVJEXKV6QZS,R2UPDB81N66T4P,R...   \n",
            "\n",
            "                                        review_title  \\\n",
            "0  Satisfied,Charging is really fast,Value for mo...   \n",
            "1  A Good Braided Cable for Your Type C Device,Go...   \n",
            "2  Good speed for earlier versions,Good Product,W...   \n",
            "3  Good product,Good one,Nice,Really nice product...   \n",
            "4  As good as original,Decent,Good one for second...   \n",
            "\n",
            "                                      review_content  \\\n",
            "0  Looks durable Charging is fine tooNo complains...   \n",
            "1  I ordered this cable to connect my phone to An...   \n",
            "2  Not quite durable and sturdy,https://m.media-a...   \n",
            "3  Good product,long wire,Charges good,Nice,I bou...   \n",
            "4  Bought this instead of original apple, does th...   \n",
            "\n",
            "                                            img_link  \\\n",
            "0  https://m.media-amazon.com/images/W/WEBP_40237...   \n",
            "1  https://m.media-amazon.com/images/W/WEBP_40237...   \n",
            "2  https://m.media-amazon.com/images/W/WEBP_40237...   \n",
            "3  https://m.media-amazon.com/images/I/41V5FtEWPk...   \n",
            "4  https://m.media-amazon.com/images/W/WEBP_40237...   \n",
            "\n",
            "                                        product_link  \n",
            "0  https://www.amazon.in/Wayona-Braided-WN3LG1-Sy...  \n",
            "1  https://www.amazon.in/Ambrane-Unbreakable-Char...  \n",
            "2  https://www.amazon.in/Sounce-iPhone-Charging-C...  \n",
            "3  https://www.amazon.in/Deuce-300-Resistant-Tang...  \n",
            "4  https://www.amazon.in/Portronics-Konnect-POR-1...  \n"
          ]
        }
      ]
    },
    {
      "cell_type": "code",
      "source": [
        "user_product_df = df[['user_id', 'product_id', 'rating']]\n",
        "\n",
        "print(user_product_df.head())\n"
      ],
      "metadata": {
        "colab": {
          "base_uri": "https://localhost:8080/"
        },
        "id": "d3D83uEj2fU0",
        "outputId": "3b46848f-c968-427b-f695-c8703ce795ab"
      },
      "execution_count": null,
      "outputs": [
        {
          "output_type": "stream",
          "name": "stdout",
          "text": [
            "                                             user_id  product_id  rating\n",
            "0  AG3D6O4STAQKAY2UVGEUV46KN35Q,AHMY5CWJMMK5BJRBB...  B07JW9H4J1     4.2\n",
            "1  AECPFYFQVRUWC3KGNLJIOREFP5LQ,AGYYVPDD7YG7FYNBX...  B098NS6PVG     4.0\n",
            "2  AGU3BBQ2V2DDAMOAKGFAWDDQ6QHA,AESFLDV2PT363T2AQ...  B096MSW6CT     3.9\n",
            "3  AEWAZDZZJLQUYVOVGBEUKSLXHQ5A,AG5HTSFRRE6NL3M5S...  B08HDJ86NZ     4.2\n",
            "4  AE3Q6KSUK5P75D5HFYHCRAOLODSA,AFUGIFH5ZAFXRDSZH...  B08CF3B7N1     4.2\n"
          ]
        }
      ]
    },
    {
      "cell_type": "code",
      "source": [
        "from surprise.model_selection import train_test_split\n",
        "from surprise import Reader\n",
        "\n",
        "reader = Reader(rating_scale=(1, 5))\n",
        "\n",
        "data = Dataset.load_from_df(user_product_df[['user_id', 'product_id', 'rating']], reader)\n",
        "\n",
        "trainset, testset = train_test_split(data, test_size=0.2)\n"
      ],
      "metadata": {
        "id": "JS5s1FJA2IhW"
      },
      "execution_count": null,
      "outputs": []
    },
    {
      "cell_type": "code",
      "source": [
        "from surprise import Dataset\n"
      ],
      "metadata": {
        "id": "t7u727Io2_po"
      },
      "execution_count": null,
      "outputs": []
    },
    {
      "cell_type": "code",
      "source": [],
      "metadata": {
        "id": "Lz3xbm5b3EWL"
      },
      "execution_count": null,
      "outputs": []
    },
    {
      "cell_type": "code",
      "source": [
        "from surprise import Dataset\n",
        "from surprise.model_selection import train_test_split\n",
        "from surprise import Reader\n",
        "\n",
        "reader = Reader(rating_scale=(1, 5))\n",
        "\n",
        "data = Dataset.load_from_df(user_product_df[['user_id', 'product_id', 'rating']], reader)\n",
        "\n",
        "trainset, testset = train_test_split(data, test_size=0.2)\n"
      ],
      "metadata": {
        "id": "Dq43pk-93Dbs"
      },
      "execution_count": null,
      "outputs": []
    },
    {
      "cell_type": "code",
      "source": [
        "from surprise import SVD\n",
        "from surprise import accuracy\n",
        "\n",
        "model = SVD()\n",
        "model.fit(trainset)\n",
        "\n",
        "predictions = model.test(testset)\n",
        "\n",
        "rmse = accuracy.rmse(predictions)\n",
        "print(f\"RMSE: {rmse}\")\n"
      ],
      "metadata": {
        "colab": {
          "base_uri": "https://localhost:8080/"
        },
        "id": "tK4KiAr72mjM",
        "outputId": "3694844a-4518-47dc-e00b-6d1617788de3"
      },
      "execution_count": null,
      "outputs": [
        {
          "output_type": "stream",
          "name": "stdout",
          "text": [
            "RMSE: 0.9558\n",
            "RMSE: 0.9558156818903112\n"
          ]
        }
      ]
    },
    {
      "cell_type": "code",
      "source": [
        "from surprise import SVD\n",
        "from surprise import accuracy\n",
        "\n",
        "model = SVD()\n",
        "\n",
        "model.fit(trainset)\n",
        "predictions = model.test(testset)\n",
        "\n",
        "rmse = accuracy.rmse(predictions)\n",
        "print(f\"Root Mean Squared Error (RMSE): {rmse}\")\n"
      ],
      "metadata": {
        "colab": {
          "base_uri": "https://localhost:8080/"
        },
        "id": "9IIQsJJx3O14",
        "outputId": "7c97322c-023e-4619-b8b2-6580414fb4d7"
      },
      "execution_count": null,
      "outputs": [
        {
          "output_type": "stream",
          "name": "stdout",
          "text": [
            "RMSE: 0.9558\n",
            "Root Mean Squared Error (RMSE): 0.9558156818903112\n"
          ]
        }
      ]
    },
    {
      "cell_type": "code",
      "source": [
        "user_id = 'AG3D6O4STAQKAY2UVGEUV46KN35Q'\n",
        "product_id = 'B07JW9H4J1'\n",
        "\n",
        "prediction = model.predict(user_id, product_id)\n",
        "print(f\"Predicted rating for user {user_id} on product {product_id}: {prediction.est}\")\n"
      ],
      "metadata": {
        "colab": {
          "base_uri": "https://localhost:8080/"
        },
        "id": "tHcYSlL83W4e",
        "outputId": "ab95a3ad-31fb-4bef-bf3d-f91de7ba9cda"
      },
      "execution_count": null,
      "outputs": [
        {
          "output_type": "stream",
          "name": "stdout",
          "text": [
            "Predicted rating for user AG3D6O4STAQKAY2UVGEUV46KN35Q on product B07JW9H4J1: 5\n"
          ]
        }
      ]
    },
    {
      "cell_type": "code",
      "source": [
        "def get_top_n_recommendations(predictions, n=10):\n",
        "\n",
        "    top_n = {}\n",
        "    for uid, iid, true_r, est, _ in predictions:\n",
        "        if uid not in top_n:\n",
        "            top_n[uid] = []\n",
        "        top_n[uid].append((iid, est))\n",
        "    for uid, user_ratings in top_n.items():\n",
        "        user_ratings.sort(key=lambda x: x[1], reverse=True)\n",
        "        top_n[uid] = user_ratings[:n]\n",
        "\n",
        "    return top_n\n",
        "\n",
        "top_n = get_top_n_recommendations(predictions, n=10)\n",
        "\n",
        "user_id = 'AEQ2YMXSZWEOHK2EHTNLOS56YTZQ'\n",
        "print(f\"Top 10 recommendations for user {user_id}:\")\n",
        "for product, score in top_n[user_id]:\n",
        "    print(f\"Product ID: {product}, Predicted Rating: {score}\")\n"
      ],
      "metadata": {
        "colab": {
          "base_uri": "https://localhost:8080/",
          "height": 332
        },
        "id": "NB1THZqq3gjS",
        "outputId": "3ef2ad5a-4b2c-40fc-cf5c-61dd8b906dda"
      },
      "execution_count": null,
      "outputs": [
        {
          "output_type": "error",
          "ename": "ValueError",
          "evalue": "not enough values to unpack (expected 5, got 2)",
          "traceback": [
            "\u001b[0;31m---------------------------------------------------------------------------\u001b[0m",
            "\u001b[0;31mValueError\u001b[0m                                Traceback (most recent call last)",
            "\u001b[0;32m<ipython-input-41-ecf148c5c184>\u001b[0m in \u001b[0;36m<cell line: 0>\u001b[0;34m()\u001b[0m\n\u001b[1;32m     12\u001b[0m     \u001b[0;32mreturn\u001b[0m \u001b[0mtop_n\u001b[0m\u001b[0;34m\u001b[0m\u001b[0;34m\u001b[0m\u001b[0m\n\u001b[1;32m     13\u001b[0m \u001b[0;34m\u001b[0m\u001b[0m\n\u001b[0;32m---> 14\u001b[0;31m \u001b[0mtop_n\u001b[0m \u001b[0;34m=\u001b[0m \u001b[0mget_top_n_recommendations\u001b[0m\u001b[0;34m(\u001b[0m\u001b[0mpredictions\u001b[0m\u001b[0;34m,\u001b[0m \u001b[0mn\u001b[0m\u001b[0;34m=\u001b[0m\u001b[0;36m10\u001b[0m\u001b[0;34m)\u001b[0m\u001b[0;34m\u001b[0m\u001b[0;34m\u001b[0m\u001b[0m\n\u001b[0m\u001b[1;32m     15\u001b[0m \u001b[0;34m\u001b[0m\u001b[0m\n\u001b[1;32m     16\u001b[0m \u001b[0muser_id\u001b[0m \u001b[0;34m=\u001b[0m \u001b[0;34m'AEQ2YMXSZWEOHK2EHTNLOS56YTZQ'\u001b[0m\u001b[0;34m\u001b[0m\u001b[0;34m\u001b[0m\u001b[0m\n",
            "\u001b[0;32m<ipython-input-41-ecf148c5c184>\u001b[0m in \u001b[0;36mget_top_n_recommendations\u001b[0;34m(predictions, n)\u001b[0m\n\u001b[1;32m      2\u001b[0m \u001b[0;34m\u001b[0m\u001b[0m\n\u001b[1;32m      3\u001b[0m     \u001b[0mtop_n\u001b[0m \u001b[0;34m=\u001b[0m \u001b[0;34m{\u001b[0m\u001b[0;34m}\u001b[0m\u001b[0;34m\u001b[0m\u001b[0;34m\u001b[0m\u001b[0m\n\u001b[0;32m----> 4\u001b[0;31m     \u001b[0;32mfor\u001b[0m \u001b[0muid\u001b[0m\u001b[0;34m,\u001b[0m \u001b[0miid\u001b[0m\u001b[0;34m,\u001b[0m \u001b[0mtrue_r\u001b[0m\u001b[0;34m,\u001b[0m \u001b[0mest\u001b[0m\u001b[0;34m,\u001b[0m \u001b[0m_\u001b[0m \u001b[0;32min\u001b[0m \u001b[0mpredictions\u001b[0m\u001b[0;34m:\u001b[0m\u001b[0;34m\u001b[0m\u001b[0;34m\u001b[0m\u001b[0m\n\u001b[0m\u001b[1;32m      5\u001b[0m         \u001b[0;32mif\u001b[0m \u001b[0muid\u001b[0m \u001b[0;32mnot\u001b[0m \u001b[0;32min\u001b[0m \u001b[0mtop_n\u001b[0m\u001b[0;34m:\u001b[0m\u001b[0;34m\u001b[0m\u001b[0;34m\u001b[0m\u001b[0m\n\u001b[1;32m      6\u001b[0m             \u001b[0mtop_n\u001b[0m\u001b[0;34m[\u001b[0m\u001b[0muid\u001b[0m\u001b[0;34m]\u001b[0m \u001b[0;34m=\u001b[0m \u001b[0;34m[\u001b[0m\u001b[0;34m]\u001b[0m\u001b[0;34m\u001b[0m\u001b[0;34m\u001b[0m\u001b[0m\n",
            "\u001b[0;31mValueError\u001b[0m: not enough values to unpack (expected 5, got 2)"
          ]
        }
      ]
    },
    {
      "cell_type": "code",
      "source": [
        "user_id = 'AG3D6O4STAQKAY2UVGEUV46KN35Q'\n",
        "\n",
        "if user_id in top_n:\n",
        "    print(f\"Top 10 recommendations for user {user_id}:\")\n",
        "    for product, score in top_n[user_id]:\n",
        "        print(f\"Product ID: {product}, Predicted Rating: {score}\")\n",
        "else:\n",
        "    print(f\"No recommendations found for user {user_id}.\")\n"
      ],
      "metadata": {
        "colab": {
          "base_uri": "https://localhost:8080/"
        },
        "id": "wPUhRlvp3qtY",
        "outputId": "281d8795-de1d-47ff-a945-c48b73f736b3"
      },
      "execution_count": null,
      "outputs": [
        {
          "output_type": "stream",
          "name": "stdout",
          "text": [
            "No recommendations found for user AG3D6O4STAQKAY2UVGEUV46KN35Q.\n"
          ]
        }
      ]
    },
    {
      "cell_type": "code",
      "source": [
        "user_id = 'AG3D6O4STAQKAY2UVGEUV46KN35Q'\n",
        "\n",
        "user_predictions = [prediction for prediction in predictions if prediction[0] == user_id]\n",
        "print(f\"Predictions for user {user_id}: {user_predictions}\")\n"
      ],
      "metadata": {
        "colab": {
          "base_uri": "https://localhost:8080/"
        },
        "id": "qf9z8AHz3_rF",
        "outputId": "47c8111b-1cd2-4197-c53e-1bd8b8eb8de1"
      },
      "execution_count": null,
      "outputs": [
        {
          "output_type": "stream",
          "name": "stdout",
          "text": [
            "Predictions for user AG3D6O4STAQKAY2UVGEUV46KN35Q: []\n"
          ]
        }
      ]
    },
    {
      "cell_type": "code",
      "source": [
        "def get_top_n_recommendations(predictions, n=10):\n",
        "    top_n = {}\n",
        "    for uid, iid, true_r, est, _ in predictions:\n",
        "        if uid not in top_n:\n",
        "            top_n[uid] = []\n",
        "        top_n[uid].append((iid, est))\n",
        "\n",
        "    for uid, user_ratings in top_n.items():\n",
        "        user_ratings.sort(key=lambda x: x[1], reverse=True)\n",
        "        top_n[uid] = user_ratings[:n]\n",
        "\n",
        "    return top_n\n",
        "\n",
        "top_n = get_top_n_recommendations(predictions, n=10)\n",
        "\n",
        "user_id = 'AEQ2YMXSZWEOHK2EHTNLOS56YTZQ'\n",
        "\n",
        "if user_id in top_n:\n",
        "    print(f\"Top 10 recommendations for user {user_id}:\")\n",
        "    for product, score in top_n[user_id]:\n",
        "        print(f\"Product ID: {product}, Predicted Rating: {score}\")\n",
        "else:\n",
        "    print(f\"User ID {user_id} not found in recommendations. This user might not be present in the training/testing data or may not have rated enough items for recommendations to be generated.\")"
      ],
      "metadata": {
        "colab": {
          "base_uri": "https://localhost:8080/"
        },
        "id": "t4BPmn4k4L1x",
        "outputId": "1c82cd32-f607-470b-f185-99e0e7dc3b62"
      },
      "execution_count": null,
      "outputs": [
        {
          "output_type": "stream",
          "name": "stdout",
          "text": [
            "User ID AEQ2YMXSZWEOHK2EHTNLOS56YTZQ not found in recommendations. This user might not be present in the training/testing data or may not have rated enough items for recommendations to be generated.\n"
          ]
        }
      ]
    },
    {
      "cell_type": "code",
      "source": [
        "user_data = df[df['user_id'] == 'AG3D6O4STAQKAY2UVGEUV46KN35Q']\n",
        "print(f\"User interactions: {user_data}\")\n"
      ],
      "metadata": {
        "colab": {
          "base_uri": "https://localhost:8080/"
        },
        "id": "iWXZAfJX4UUy",
        "outputId": "b5b6f87a-0497-4c10-9e29-dfc2d00185d6"
      },
      "execution_count": null,
      "outputs": [
        {
          "output_type": "stream",
          "name": "stdout",
          "text": [
            "User interactions: Empty DataFrame\n",
            "Columns: [product_id, product_name, category, discounted_price, actual_price, discount_percentage, rating, rating_count, about_product, user_id, user_name, review_id, review_title, review_content, img_link, product_link]\n",
            "Index: []\n"
          ]
        }
      ]
    },
    {
      "cell_type": "code",
      "source": [
        "user_id = 'user_id_of_some_other_user'\n"
      ],
      "metadata": {
        "id": "a1VFG5jF4eOs"
      },
      "execution_count": null,
      "outputs": []
    },
    {
      "cell_type": "code",
      "source": [
        "user_id = 'AG3D6O4STAQKAY2UVGEUV46KN35Q'\n",
        "if trainset.knows(user_id):\n",
        "    print(f\"User {user_id} is in the training set.\")\n",
        "else:\n",
        "    print(f\"User {user_id} is not in the training set.\")\n"
      ],
      "metadata": {
        "colab": {
          "base_uri": "https://localhost:8080/",
          "height": 211
        },
        "id": "fvUswPoW5ngr",
        "outputId": "9fb54d71-f39a-4d31-91b2-1801cd0818ac"
      },
      "execution_count": null,
      "outputs": [
        {
          "output_type": "error",
          "ename": "AttributeError",
          "evalue": "'Trainset' object has no attribute 'knows'",
          "traceback": [
            "\u001b[0;31m---------------------------------------------------------------------------\u001b[0m",
            "\u001b[0;31mAttributeError\u001b[0m                            Traceback (most recent call last)",
            "\u001b[0;32m<ipython-input-43-937e7dd75cce>\u001b[0m in \u001b[0;36m<cell line: 0>\u001b[0;34m()\u001b[0m\n\u001b[1;32m      1\u001b[0m \u001b[0muser_id\u001b[0m \u001b[0;34m=\u001b[0m \u001b[0;34m'AG3D6O4STAQKAY2UVGEUV46KN35Q'\u001b[0m\u001b[0;34m\u001b[0m\u001b[0;34m\u001b[0m\u001b[0m\n\u001b[0;32m----> 2\u001b[0;31m \u001b[0;32mif\u001b[0m \u001b[0mtrainset\u001b[0m\u001b[0;34m.\u001b[0m\u001b[0mknows\u001b[0m\u001b[0;34m(\u001b[0m\u001b[0muser_id\u001b[0m\u001b[0;34m)\u001b[0m\u001b[0;34m:\u001b[0m\u001b[0;34m\u001b[0m\u001b[0;34m\u001b[0m\u001b[0m\n\u001b[0m\u001b[1;32m      3\u001b[0m     \u001b[0mprint\u001b[0m\u001b[0;34m(\u001b[0m\u001b[0;34mf\"User {user_id} is in the training set.\"\u001b[0m\u001b[0;34m)\u001b[0m\u001b[0;34m\u001b[0m\u001b[0;34m\u001b[0m\u001b[0m\n\u001b[1;32m      4\u001b[0m \u001b[0;32melse\u001b[0m\u001b[0;34m:\u001b[0m\u001b[0;34m\u001b[0m\u001b[0;34m\u001b[0m\u001b[0m\n\u001b[1;32m      5\u001b[0m     \u001b[0mprint\u001b[0m\u001b[0;34m(\u001b[0m\u001b[0;34mf\"User {user_id} is not in the training set.\"\u001b[0m\u001b[0;34m)\u001b[0m\u001b[0;34m\u001b[0m\u001b[0;34m\u001b[0m\u001b[0m\n",
            "\u001b[0;31mAttributeError\u001b[0m: 'Trainset' object has no attribute 'knows'"
          ]
        }
      ]
    },
    {
      "cell_type": "code",
      "source": [
        "users_with_ratings = df[df['rating'].notna()]['user_id'].unique()\n",
        "print(users_with_ratings[:10])\n"
      ],
      "metadata": {
        "colab": {
          "base_uri": "https://localhost:8080/"
        },
        "id": "kjie8qaF5r6r",
        "outputId": "de48b19e-e435-4024-8249-d2de65dac20c"
      },
      "execution_count": null,
      "outputs": [
        {
          "output_type": "stream",
          "name": "stdout",
          "text": [
            "['AG3D6O4STAQKAY2UVGEUV46KN35Q,AHMY5CWJMMK5BJRBBSNLYT3ONILA,AHCTC6ULH4XB6YHDY6PCH2R772LQ,AGYHHIERNXKA6P5T7CZLXKVPT7IQ,AG4OGOFWXJZTQ2HKYIOCOY3KXF2Q,AENGU523SXMOS7JPDTW52PNNVWGQ,AEQJHCVTNINBS4FKTBGQRQTGTE5Q,AFC3FFC5PKFF5PMA52S3VCHOZ5FQ'\n",
            " 'AECPFYFQVRUWC3KGNLJIOREFP5LQ,AGYYVPDD7YG7FYNBXNGXZJT525AQ,AHONIZU3ICIEHQIGQ6R2VFRSBXOQ,AFPHD2CRPDZMWMBL7WXRSVYWS5JA,AEZ346GX3HJ4O4XNRPHCNHXQURMQ,AEPSWFPNECKO34PUC7I56ITGXR6Q,AHWVEHR5DYLVFTO2KF3IZATFQSWQ,AH4QT33M55677I7ISQOAKEQWACYQ'\n",
            " 'AGU3BBQ2V2DDAMOAKGFAWDDQ6QHA,AESFLDV2PT363T2AQLWQOWZ4N3OA,AHTPQRIMGUD4BYR5YIHBH3CCGEFQ,AEUVWXYP5LT7PZLLZENEO2NODPBQ,AHC7MPW55DOO6WNCOQVA2VHOD26A,AFDI6FRPFBTNBG7BAEB7JDJSMKDQ,AFQKCEEEKXCOHTDG4WUN3XPPHJQQ,AHKUUFNMBZIDLSSPA4FEHIO2EC7Q'\n",
            " 'AEWAZDZZJLQUYVOVGBEUKSLXHQ5A,AG5HTSFRRE6NL3M5SGCUQBP7YSCA,AH725ST5NW2Y4JZPKUNTIJCUK2BA,AHV3TXIFCJPMS4D5JATCEUR266MQ,AGWIGDEMFIIUAOXYY2QATNBSUGHA,AFSTSLQUV4EVEXWKBOLEFHL2H5YQ,AGAKDNBHY2FKX7I4ACRGILU7QL7A,AFNWJUWJRHCC6HN52KMG5AKZY37Q'\n",
            " 'AE3Q6KSUK5P75D5HFYHCRAOLODSA,AFUGIFH5ZAFXRDSZHM4QB2KPKFUQ,AFK4NJOLFSJGWLOJIUIAROJF6YVA,AFUOTYRFUXVPEBGIXVZZ7DR3CZUA,AFDLRSXKDZ6U3U3KD46SQLFGZQRA,AH5VLM66SIK7J3IRG4NY7XVOQ55A,AE3MQNNHHLUHXURL5S7IAR7JTGNQ,AFSEOFZY67MYC7UAJU264Z5NFTLA'\n",
            " 'AEQ2YMXSZWEOHK2EHTNLOS56YTZQ,AGRVINWECNY7323CWFXZYYIZOFTQ,AHBAT6VLOXWGYDL57KHCNCLPXAKA,AF7NDY2H6JVYTSQOZP76GCATQ34Q,AFV7ZA733ZLME4KNLZPMPCBUNPPA,AHFAAPSY2MJ5HYOU2VQDJ7AQY4NQ,AH2WGV2PEBUTICRPBEEVKF24G5LA,AEP4MK3EKOBDKTGPJTRN5RBDIODA'\n",
            " 'AG7C6DAADCTRQJG2BRS3RIKDT52Q,AFU7BOMPVJ7Q3TTA4G67RASTGYIQ,AER5ZGIXXVYG3AWZTRZT7M2BYCEA,AHE76XQSOLGOP5ZEKTIW6KUPDWBQ,AGXTMB2XHZBEWZ2UIX7ODZ4XTU6Q,AHNM2XVU745EDPNGUOAG74PTSNRA,AH5RWQ4S72IVLZD6O75OPCFIVDXQ,AG322TYKVPLPBDXE7ABEUK5QTALQ'\n",
            " 'AHW6E5LQ2BDYOIVLAJGDH45J5V5Q,AF74RSGCHPZITVFSZN76K6GKPICA,AHDD7ZNB47QA2JLYU53HD4ML3VNQ,AHV3ELGDSOWBYUQLXSPDCSHBQRHQ,AEJU4L3ZM2GTILSJZZSNSF6VUOIA,AFVD66VQMSHPDT3A6HBBBGKRXBZA,AELKHQXVSSG6NHXLFJLLNEFRQQUQ,AGYSMAC6V6RFJJOHG2FIRPOZ6CSQ'\n",
            " 'AGV3IEFANZCKECFGUM42MRH5FNOA,AEBO7NWCNXKT4AESAN443HQH35FQ,AE7GD3VRRYQEAHDR7FXJIR23INYA,AHPAW24BI5X2GCX5M2LHI72VSJJQ,AE2VXY4CFO36MDSIMPG43XHNF4GA,AHHQEKUNVETALN7DTRHUQ2WAWEKQ,AFMIFTNTUD5PIHGONWOTRMMZ5EBA,AHOJBIZVVIIFJKRREY4B6ESVA4KA'\n",
            " 'AGYLPKPZHVYKKZHOTHCTYVEDAJ4A,AGTTU64JMX722LYCN3SOWLFPKPAQ,AFWD4ZTM7473CDWARHCDQKK73MTA,AEXCQM3FDLX3YL3UJWWUIAIUJT4A,AHUKYUWRUVRTB3IQGISXWTSPAWLQ,AFWW4UEXAJH7EAB5LTMKMSGLUN2Q,AFM5JL37WY7G6MLQUI4WAXUJME7Q,AFECO24WYFOU2KL7C3DMHTEHRU7Q']\n"
          ]
        }
      ]
    },
    {
      "cell_type": "code",
      "source": [
        "users_with_reviews_only = df[df['rating'].isna()]['user_id'].unique()\n",
        "print(users_with_reviews_only[:10])\n"
      ],
      "metadata": {
        "colab": {
          "base_uri": "https://localhost:8080/"
        },
        "id": "-4uAVlzR6Chy",
        "outputId": "d3d4eb26-d76f-4f15-c7ef-e4be804225e6"
      },
      "execution_count": null,
      "outputs": [
        {
          "output_type": "stream",
          "name": "stdout",
          "text": [
            "['AGTDSNT2FKVYEPDPXAA673AIS44A,AER2XFSWNN4LAUCJ55IY5SOMF7WA,AE3MSW6H3AL6F3ZGR5LCN5AHJO6A,AG5OL5WIIPJBY25HISJLM5K2UBTQ,AGHFSIBYVYXUGSNYUDAHBGOIZ3KQ,AHYH6AZT3U3U44CDW5Y563UYIIUA,AFLOAOURRZZZGFBF7F6IKGXRB6NQ,AGNWBYEVAIII4MPQNKN3LFVOHYZQ']\n"
          ]
        }
      ]
    },
    {
      "cell_type": "code",
      "source": [
        "mean_rating = df['rating'].astype(float).mean()\n",
        "df['rating'].fillna(mean_rating, inplace=True)\n"
      ],
      "metadata": {
        "colab": {
          "base_uri": "https://localhost:8080/"
        },
        "id": "C_cw0cew6JWz",
        "outputId": "29cf2e29-59b1-42ac-88ba-30ebd2c40a6c"
      },
      "execution_count": null,
      "outputs": [
        {
          "output_type": "stream",
          "name": "stderr",
          "text": [
            "<ipython-input-36-4f3a883d4f0d>:3: FutureWarning: A value is trying to be set on a copy of a DataFrame or Series through chained assignment using an inplace method.\n",
            "The behavior will change in pandas 3.0. This inplace method will never work because the intermediate object on which we are setting values always behaves as a copy.\n",
            "\n",
            "For example, when doing 'df[col].method(value, inplace=True)', try using 'df.method({col: value}, inplace=True)' or df[col] = df[col].method(value) instead, to perform the operation inplace on the original object.\n",
            "\n",
            "\n",
            "  df['rating'].fillna(mean_rating, inplace=True)\n"
          ]
        }
      ]
    },
    {
      "cell_type": "code",
      "source": [
        "df['rating'] = df['rating'].fillna(mean_rating)\n"
      ],
      "metadata": {
        "id": "qr4RpaEs6MP2"
      },
      "execution_count": null,
      "outputs": []
    },
    {
      "cell_type": "code",
      "source": [
        "user_id = 'AG3D6O4STAQKAY2UVGEUV46KN35Q'\n",
        "predictions = []\n",
        "\n",
        "for product_id in df['product_id'].unique():\n",
        "    prediction = model.predict(user_id, product_id)\n",
        "    predictions.append((product_id, prediction.est))\n",
        "\n",
        "predictions.sort(key=lambda x: x[1], reverse=True)\n",
        "\n",
        "top_n = predictions[:10]\n",
        "\n",
        "print(f\"Top 10 recommendations for user {user_id}:\")\n",
        "for product, score in top_n:\n",
        "    print(f\"Product ID: {product}, Predicted Rating: {score}\")\n"
      ],
      "metadata": {
        "colab": {
          "base_uri": "https://localhost:8080/"
        },
        "id": "h_wS5LRe6VRr",
        "outputId": "8180c607-8265-4b2d-86c2-7cc5f7420daf"
      },
      "execution_count": null,
      "outputs": [
        {
          "output_type": "stream",
          "name": "stdout",
          "text": [
            "Top 10 recommendations for user AG3D6O4STAQKAY2UVGEUV46KN35Q:\n",
            "Product ID: B07JW9H4J1, Predicted Rating: 5\n",
            "Product ID: B098NS6PVG, Predicted Rating: 5\n",
            "Product ID: B096MSW6CT, Predicted Rating: 5\n",
            "Product ID: B08HDJ86NZ, Predicted Rating: 5\n",
            "Product ID: B08CF3B7N1, Predicted Rating: 5\n",
            "Product ID: B08Y1TFSP6, Predicted Rating: 5\n",
            "Product ID: B08WRWPM22, Predicted Rating: 5\n",
            "Product ID: B08DDRGWTJ, Predicted Rating: 5\n",
            "Product ID: B008IFXQFU, Predicted Rating: 5\n",
            "Product ID: B082LZGK39, Predicted Rating: 5\n"
          ]
        }
      ]
    },
    {
      "cell_type": "code",
      "source": [],
      "metadata": {
        "id": "Xkfdx1YF6kxL"
      },
      "execution_count": null,
      "outputs": []
    }
  ]
}